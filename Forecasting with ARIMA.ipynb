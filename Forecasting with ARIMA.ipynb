{
  "nbformat": 4,
  "nbformat_minor": 0,
  "metadata": {
    "colab": {
      "provenance": [],
      "toc_visible": true
    },
    "kernelspec": {
      "name": "python3",
      "display_name": "Python 3"
    },
    "language_info": {
      "name": "python"
    }
  },
  "cells": [
    {
      "cell_type": "code",
      "execution_count": 66,
      "metadata": {
        "id": "CeA1Ta4hf-mr"
      },
      "outputs": [],
      "source": [
        "import pandas as pd\n",
        "import matplotlib.pyplot as plt\n",
        "import pmdarima as pm\n",
        "\n",
        "from sklearn.impute import KNNImputer\n",
        "from sklearn.preprocessing import StandardScaler\n",
        "from sklearn.cluster import KMeans\n",
        "from sklearn.decomposition import PCA\n",
        "from sklearn.metrics import silhouette_samples, silhouette_score\n",
        "from sklearn.metrics import mean_absolute_error, mean_absolute_percentage_error, mean_squared_error\n",
        "from statsmodels.tsa.holtwinters import ExponentialSmoothing, Holt\n",
        "from statsmodels.tsa.stattools import adfuller\n",
        "from statsmodels.tsa.arima.model import ARIMA\n",
        "from statsmodels.graphics.tsaplots import plot_acf, plot_pacf\n",
        "from statsmodels.tsa.statespace.sarimax import SARIMAX\n",
        "from sklearn.metrics import mean_squared_error\n",
        "from itertools import permutations\n",
        "from itertools import product\n",
        "from datetime import datetime\n",
        "import warnings\n",
        "warnings.filterwarnings('ignore')\n"
      ]
    },
    {
      "cell_type": "code",
      "source": [
        "#read all csv files\n",
        "customer = pd.read_csv(\"Customer(fix).csv\", sep=\";\")\n",
        "transaction = pd.read_csv(\"Transaction(fix).csv\", sep=\";\")\n",
        "product = pd.read_csv(\"Product(fix).csv\", sep=\";\")\n",
        "store = pd.read_csv(\"Store(fix).csv\", sep=\";\")"
      ],
      "metadata": {
        "id": "3tpm-y4LgdQV"
      },
      "execution_count": 67,
      "outputs": []
    },
    {
      "cell_type": "code",
      "source": [
        "print(customer)\n",
        "print(customer.info())"
      ],
      "metadata": {
        "colab": {
          "base_uri": "https://localhost:8080/"
        },
        "id": "XaS-85q4hFR2",
        "outputId": "2d5d101e-6b6e-4366-edee-6b2cb6e4941e"
      },
      "execution_count": 68,
      "outputs": [
        {
          "output_type": "stream",
          "name": "stdout",
          "text": [
            "     CustomerID  Age  Gender Marital Status  Income\n",
            "0             1   55    Male        Married    5.12\n",
            "1             2   60    Male        Married    6.23\n",
            "2             3   32    Male        Married    9.17\n",
            "3             4   31    Male        Married    4.87\n",
            "4             5   58    Male        Married    3.57\n",
            "..          ...  ...     ...            ...     ...\n",
            "442         443   33    Male        Married    9.28\n",
            "443         444   53  Female        Married   15.31\n",
            "444         445   51  Female        Married   14.48\n",
            "445         446   57  Female        Married    7.81\n",
            "446         447   54    Male        Married   20.37\n",
            "\n",
            "[447 rows x 5 columns]\n",
            "<class 'pandas.core.frame.DataFrame'>\n",
            "RangeIndex: 447 entries, 0 to 446\n",
            "Data columns (total 5 columns):\n",
            " #   Column          Non-Null Count  Dtype  \n",
            "---  ------          --------------  -----  \n",
            " 0   CustomerID      447 non-null    int64  \n",
            " 1   Age             447 non-null    int64  \n",
            " 2   Gender          447 non-null    object \n",
            " 3   Marital Status  447 non-null    object \n",
            " 4   Income          447 non-null    float64\n",
            "dtypes: float64(1), int64(2), object(2)\n",
            "memory usage: 17.6+ KB\n",
            "None\n"
          ]
        }
      ]
    },
    {
      "cell_type": "code",
      "source": [
        "print(transaction)\n",
        "print(transaction.info())"
      ],
      "metadata": {
        "colab": {
          "base_uri": "https://localhost:8080/"
        },
        "id": "ZKaAjucohPjm",
        "outputId": "652d4560-9263-4ccc-d1d3-d1cef2427281"
      },
      "execution_count": 69,
      "outputs": [
        {
          "output_type": "stream",
          "name": "stdout",
          "text": [
            "     TransactionID  CustomerID        Date ProductID  Price  Qty  TotalAmount  \\\n",
            "0          TR11369         328  2022-01-01        P3   7500    4        30000   \n",
            "1          TR16356         165  2022-01-01        P9  10000    7        70000   \n",
            "2           TR1984         183  2022-01-01        P1   8800    4        35200   \n",
            "3          TR35256         160  2022-01-01        P1   8800    7        61600   \n",
            "4          TR41231         386  2022-01-01        P9  10000    1        10000   \n",
            "...            ...         ...         ...       ...    ...  ...          ...   \n",
            "5015       TR54423         243  2022-12-31       P10  15000    5        75000   \n",
            "5016        TR5604         271  2022-12-31        P2   3200    4        12800   \n",
            "5017       TR81224          52  2022-12-31        P7   9400    6        56400   \n",
            "5018       TR85016          18  2022-12-31        P8  16000    3        48000   \n",
            "5019       TR85684          55  2022-12-31        P8  16000    1        16000   \n",
            "\n",
            "      StoreID  \n",
            "0          12  \n",
            "1           1  \n",
            "2           4  \n",
            "3           4  \n",
            "4           4  \n",
            "...       ...  \n",
            "5015        3  \n",
            "5016        9  \n",
            "5017        9  \n",
            "5018       13  \n",
            "5019        6  \n",
            "\n",
            "[5020 rows x 8 columns]\n",
            "<class 'pandas.core.frame.DataFrame'>\n",
            "RangeIndex: 5020 entries, 0 to 5019\n",
            "Data columns (total 8 columns):\n",
            " #   Column         Non-Null Count  Dtype \n",
            "---  ------         --------------  ----- \n",
            " 0   TransactionID  5020 non-null   object\n",
            " 1   CustomerID     5020 non-null   int64 \n",
            " 2   Date           5020 non-null   object\n",
            " 3   ProductID      5020 non-null   object\n",
            " 4   Price          5020 non-null   int64 \n",
            " 5   Qty            5020 non-null   int64 \n",
            " 6   TotalAmount    5020 non-null   int64 \n",
            " 7   StoreID        5020 non-null   int64 \n",
            "dtypes: int64(5), object(3)\n",
            "memory usage: 313.9+ KB\n",
            "None\n"
          ]
        }
      ]
    },
    {
      "cell_type": "code",
      "source": [
        "#Changing the data type of the \"Date\" column to datetime\n",
        "transaction['Date'] = pd.to_datetime(transaction['Date'])\n",
        "transaction.info()"
      ],
      "metadata": {
        "colab": {
          "base_uri": "https://localhost:8080/"
        },
        "id": "66IY2eKTh6bE",
        "outputId": "9224c089-efb7-48ee-b470-93f986a61126"
      },
      "execution_count": 70,
      "outputs": [
        {
          "output_type": "stream",
          "name": "stdout",
          "text": [
            "<class 'pandas.core.frame.DataFrame'>\n",
            "RangeIndex: 5020 entries, 0 to 5019\n",
            "Data columns (total 8 columns):\n",
            " #   Column         Non-Null Count  Dtype         \n",
            "---  ------         --------------  -----         \n",
            " 0   TransactionID  5020 non-null   object        \n",
            " 1   CustomerID     5020 non-null   int64         \n",
            " 2   Date           5020 non-null   datetime64[ns]\n",
            " 3   ProductID      5020 non-null   object        \n",
            " 4   Price          5020 non-null   int64         \n",
            " 5   Qty            5020 non-null   int64         \n",
            " 6   TotalAmount    5020 non-null   int64         \n",
            " 7   StoreID        5020 non-null   int64         \n",
            "dtypes: datetime64[ns](1), int64(5), object(2)\n",
            "memory usage: 313.9+ KB\n"
          ]
        }
      ]
    },
    {
      "cell_type": "code",
      "source": [
        "print(product)\n",
        "print(product.info())"
      ],
      "metadata": {
        "colab": {
          "base_uri": "https://localhost:8080/"
        },
        "id": "eoJdLZfOinmh",
        "outputId": "e5edda9c-d304-4025-b07b-3178fbc66566"
      },
      "execution_count": 71,
      "outputs": [
        {
          "output_type": "stream",
          "name": "stdout",
          "text": [
            "  ProductID   Product Name  Price\n",
            "0        P1      Choco Bar   8800\n",
            "1        P2  Ginger Candy    3200\n",
            "2        P3       Crackers   7500\n",
            "3        P4    Potato Chip  12000\n",
            "4        P5       Thai Tea   4200\n",
            "5        P6         Cashew  18000\n",
            "6        P7   Coffee Candy   9400\n",
            "7        P8            Oat  16000\n",
            "8        P9        Yoghurt  10000\n",
            "9       P10   Cheese Stick  15000\n",
            "<class 'pandas.core.frame.DataFrame'>\n",
            "RangeIndex: 10 entries, 0 to 9\n",
            "Data columns (total 3 columns):\n",
            " #   Column        Non-Null Count  Dtype \n",
            "---  ------        --------------  ----- \n",
            " 0   ProductID     10 non-null     object\n",
            " 1   Product Name  10 non-null     object\n",
            " 2   Price         10 non-null     int64 \n",
            "dtypes: int64(1), object(2)\n",
            "memory usage: 368.0+ bytes\n",
            "None\n"
          ]
        }
      ]
    },
    {
      "cell_type": "code",
      "source": [
        "print(store)\n",
        "print(store.info())"
      ],
      "metadata": {
        "colab": {
          "base_uri": "https://localhost:8080/"
        },
        "id": "iyjLgFlOi6E6",
        "outputId": "02039d89-9f90-4c25-abd4-99df99367a93"
      },
      "execution_count": 72,
      "outputs": [
        {
          "output_type": "stream",
          "name": "stdout",
          "text": [
            "    StoreID         StoreName    GroupStore           Type   Latitude  \\\n",
            "0         1     Prima Tendean         Prima   Modern Trade  -6,200000   \n",
            "1         2  Prima Kelapa Dua         Prima   Modern Trade  -6,914864   \n",
            "2         3        Prima Kota         Prima   Modern Trade  -7,797068   \n",
            "3         4       Gita Ginara          Gita  General Trade  -6,966667   \n",
            "4         5           Bonafid          Gita  General Trade  -7,250445   \n",
            "5         6            Lingga        Lingga   Modern Trade  -5,135399   \n",
            "6         7       Buana Indah         Buana  General Trade   3,316694   \n",
            "7         8     Sinar Harapan  Harapan Baru  General Trade   5,548290   \n",
            "8         9            Lingga        Lingga   Modern Trade  -3,654703   \n",
            "9        10      Harapan Baru  Harapan Baru  General Trade   3,597031   \n",
            "10       11     Sinar Harapan      Prestasi  General Trade   0,533505   \n",
            "11       12    Prestasi Utama      Prestasi  General Trade  -2,990934   \n",
            "12       13             Buana         Buana  General Trade  -1,269160   \n",
            "13       14          Priangan      Priangan   Modern Trade  -5,450000   \n",
            "\n",
            "     Longitude  \n",
            "0   106,816666  \n",
            "1   107,608238  \n",
            "2   110,370529  \n",
            "3   110,416664  \n",
            "4   112,768845  \n",
            "5   119,423790  \n",
            "6   114,590111  \n",
            "7    95,323753  \n",
            "8   128,190643  \n",
            "9    98,678513  \n",
            "10  101,447403  \n",
            "11  104,756554  \n",
            "12  116,825264  \n",
            "13  105,266670  \n",
            "<class 'pandas.core.frame.DataFrame'>\n",
            "RangeIndex: 14 entries, 0 to 13\n",
            "Data columns (total 6 columns):\n",
            " #   Column      Non-Null Count  Dtype \n",
            "---  ------      --------------  ----- \n",
            " 0   StoreID     14 non-null     int64 \n",
            " 1   StoreName   14 non-null     object\n",
            " 2   GroupStore  14 non-null     object\n",
            " 3   Type        14 non-null     object\n",
            " 4   Latitude    14 non-null     object\n",
            " 5   Longitude   14 non-null     object\n",
            "dtypes: int64(1), object(5)\n",
            "memory usage: 800.0+ bytes\n",
            "None\n"
          ]
        }
      ]
    },
    {
      "cell_type": "code",
      "source": [
        "# Combine all data into a merged new dataframe.\n",
        "df = pd.merge(transaction,customer,on='CustomerID')\n",
        "df = pd.merge(df,product,on='ProductID', suffixes=('_Customer','_Product'))\n",
        "df = pd.merge(df,store,on='StoreID')\n",
        "df = df.sort_values(by='Date')\n",
        "df.head()"
      ],
      "metadata": {
        "colab": {
          "base_uri": "https://localhost:8080/",
          "height": 348
        },
        "id": "wFdRZlTEi_Tu",
        "outputId": "78bfdada-9f31-4924-90d4-54d5518f98c9"
      },
      "execution_count": 73,
      "outputs": [
        {
          "output_type": "execute_result",
          "data": {
            "text/plain": [
              "     TransactionID  CustomerID       Date ProductID  Price_Customer  Qty  \\\n",
              "0          TR11369         328 2022-01-01        P3            7500    4   \n",
              "4814       TR35256         160 2022-01-01        P1            8800    7   \n",
              "337        TR76340         287 2022-01-01        P4           12000    4   \n",
              "3042        TR7596         270 2022-01-01        P7            9400    2   \n",
              "3288       TR54287          51 2022-01-01        P8           16000    2   \n",
              "\n",
              "      TotalAmount  StoreID  Age  Gender Marital Status  Income  Product Name  \\\n",
              "0           30000       12   36  Female        Married   10.53      Crackers   \n",
              "4814        61600        4   48    Male        Married   12.57     Choco Bar   \n",
              "337         48000       12   36  Female         Single    3.70   Potato Chip   \n",
              "3042        18800       14   49    Male        Married    8.81  Coffee Candy   \n",
              "3288        32000        2   36  Female        Married    7.95           Oat   \n",
              "\n",
              "      Price_Product         StoreName GroupStore           Type   Latitude  \\\n",
              "0              7500    Prestasi Utama   Prestasi  General Trade  -2,990934   \n",
              "4814           8800       Gita Ginara       Gita  General Trade  -6,966667   \n",
              "337           12000    Prestasi Utama   Prestasi  General Trade  -2,990934   \n",
              "3042           9400          Priangan   Priangan   Modern Trade  -5,450000   \n",
              "3288          16000  Prima Kelapa Dua      Prima   Modern Trade  -6,914864   \n",
              "\n",
              "       Longitude  \n",
              "0     104,756554  \n",
              "4814  110,416664  \n",
              "337   104,756554  \n",
              "3042  105,266670  \n",
              "3288  107,608238  "
            ],
            "text/html": [
              "\n",
              "  <div id=\"df-ba91a489-08c3-4c70-bcb1-158a102847e3\" class=\"colab-df-container\">\n",
              "    <div>\n",
              "<style scoped>\n",
              "    .dataframe tbody tr th:only-of-type {\n",
              "        vertical-align: middle;\n",
              "    }\n",
              "\n",
              "    .dataframe tbody tr th {\n",
              "        vertical-align: top;\n",
              "    }\n",
              "\n",
              "    .dataframe thead th {\n",
              "        text-align: right;\n",
              "    }\n",
              "</style>\n",
              "<table border=\"1\" class=\"dataframe\">\n",
              "  <thead>\n",
              "    <tr style=\"text-align: right;\">\n",
              "      <th></th>\n",
              "      <th>TransactionID</th>\n",
              "      <th>CustomerID</th>\n",
              "      <th>Date</th>\n",
              "      <th>ProductID</th>\n",
              "      <th>Price_Customer</th>\n",
              "      <th>Qty</th>\n",
              "      <th>TotalAmount</th>\n",
              "      <th>StoreID</th>\n",
              "      <th>Age</th>\n",
              "      <th>Gender</th>\n",
              "      <th>Marital Status</th>\n",
              "      <th>Income</th>\n",
              "      <th>Product Name</th>\n",
              "      <th>Price_Product</th>\n",
              "      <th>StoreName</th>\n",
              "      <th>GroupStore</th>\n",
              "      <th>Type</th>\n",
              "      <th>Latitude</th>\n",
              "      <th>Longitude</th>\n",
              "    </tr>\n",
              "  </thead>\n",
              "  <tbody>\n",
              "    <tr>\n",
              "      <th>0</th>\n",
              "      <td>TR11369</td>\n",
              "      <td>328</td>\n",
              "      <td>2022-01-01</td>\n",
              "      <td>P3</td>\n",
              "      <td>7500</td>\n",
              "      <td>4</td>\n",
              "      <td>30000</td>\n",
              "      <td>12</td>\n",
              "      <td>36</td>\n",
              "      <td>Female</td>\n",
              "      <td>Married</td>\n",
              "      <td>10.53</td>\n",
              "      <td>Crackers</td>\n",
              "      <td>7500</td>\n",
              "      <td>Prestasi Utama</td>\n",
              "      <td>Prestasi</td>\n",
              "      <td>General Trade</td>\n",
              "      <td>-2,990934</td>\n",
              "      <td>104,756554</td>\n",
              "    </tr>\n",
              "    <tr>\n",
              "      <th>4814</th>\n",
              "      <td>TR35256</td>\n",
              "      <td>160</td>\n",
              "      <td>2022-01-01</td>\n",
              "      <td>P1</td>\n",
              "      <td>8800</td>\n",
              "      <td>7</td>\n",
              "      <td>61600</td>\n",
              "      <td>4</td>\n",
              "      <td>48</td>\n",
              "      <td>Male</td>\n",
              "      <td>Married</td>\n",
              "      <td>12.57</td>\n",
              "      <td>Choco Bar</td>\n",
              "      <td>8800</td>\n",
              "      <td>Gita Ginara</td>\n",
              "      <td>Gita</td>\n",
              "      <td>General Trade</td>\n",
              "      <td>-6,966667</td>\n",
              "      <td>110,416664</td>\n",
              "    </tr>\n",
              "    <tr>\n",
              "      <th>337</th>\n",
              "      <td>TR76340</td>\n",
              "      <td>287</td>\n",
              "      <td>2022-01-01</td>\n",
              "      <td>P4</td>\n",
              "      <td>12000</td>\n",
              "      <td>4</td>\n",
              "      <td>48000</td>\n",
              "      <td>12</td>\n",
              "      <td>36</td>\n",
              "      <td>Female</td>\n",
              "      <td>Single</td>\n",
              "      <td>3.70</td>\n",
              "      <td>Potato Chip</td>\n",
              "      <td>12000</td>\n",
              "      <td>Prestasi Utama</td>\n",
              "      <td>Prestasi</td>\n",
              "      <td>General Trade</td>\n",
              "      <td>-2,990934</td>\n",
              "      <td>104,756554</td>\n",
              "    </tr>\n",
              "    <tr>\n",
              "      <th>3042</th>\n",
              "      <td>TR7596</td>\n",
              "      <td>270</td>\n",
              "      <td>2022-01-01</td>\n",
              "      <td>P7</td>\n",
              "      <td>9400</td>\n",
              "      <td>2</td>\n",
              "      <td>18800</td>\n",
              "      <td>14</td>\n",
              "      <td>49</td>\n",
              "      <td>Male</td>\n",
              "      <td>Married</td>\n",
              "      <td>8.81</td>\n",
              "      <td>Coffee Candy</td>\n",
              "      <td>9400</td>\n",
              "      <td>Priangan</td>\n",
              "      <td>Priangan</td>\n",
              "      <td>Modern Trade</td>\n",
              "      <td>-5,450000</td>\n",
              "      <td>105,266670</td>\n",
              "    </tr>\n",
              "    <tr>\n",
              "      <th>3288</th>\n",
              "      <td>TR54287</td>\n",
              "      <td>51</td>\n",
              "      <td>2022-01-01</td>\n",
              "      <td>P8</td>\n",
              "      <td>16000</td>\n",
              "      <td>2</td>\n",
              "      <td>32000</td>\n",
              "      <td>2</td>\n",
              "      <td>36</td>\n",
              "      <td>Female</td>\n",
              "      <td>Married</td>\n",
              "      <td>7.95</td>\n",
              "      <td>Oat</td>\n",
              "      <td>16000</td>\n",
              "      <td>Prima Kelapa Dua</td>\n",
              "      <td>Prima</td>\n",
              "      <td>Modern Trade</td>\n",
              "      <td>-6,914864</td>\n",
              "      <td>107,608238</td>\n",
              "    </tr>\n",
              "  </tbody>\n",
              "</table>\n",
              "</div>\n",
              "    <div class=\"colab-df-buttons\">\n",
              "\n",
              "  <div class=\"colab-df-container\">\n",
              "    <button class=\"colab-df-convert\" onclick=\"convertToInteractive('df-ba91a489-08c3-4c70-bcb1-158a102847e3')\"\n",
              "            title=\"Convert this dataframe to an interactive table.\"\n",
              "            style=\"display:none;\">\n",
              "\n",
              "  <svg xmlns=\"http://www.w3.org/2000/svg\" height=\"24px\" viewBox=\"0 -960 960 960\">\n",
              "    <path d=\"M120-120v-720h720v720H120Zm60-500h600v-160H180v160Zm220 220h160v-160H400v160Zm0 220h160v-160H400v160ZM180-400h160v-160H180v160Zm440 0h160v-160H620v160ZM180-180h160v-160H180v160Zm440 0h160v-160H620v160Z\"/>\n",
              "  </svg>\n",
              "    </button>\n",
              "\n",
              "  <style>\n",
              "    .colab-df-container {\n",
              "      display:flex;\n",
              "      gap: 12px;\n",
              "    }\n",
              "\n",
              "    .colab-df-convert {\n",
              "      background-color: #E8F0FE;\n",
              "      border: none;\n",
              "      border-radius: 50%;\n",
              "      cursor: pointer;\n",
              "      display: none;\n",
              "      fill: #1967D2;\n",
              "      height: 32px;\n",
              "      padding: 0 0 0 0;\n",
              "      width: 32px;\n",
              "    }\n",
              "\n",
              "    .colab-df-convert:hover {\n",
              "      background-color: #E2EBFA;\n",
              "      box-shadow: 0px 1px 2px rgba(60, 64, 67, 0.3), 0px 1px 3px 1px rgba(60, 64, 67, 0.15);\n",
              "      fill: #174EA6;\n",
              "    }\n",
              "\n",
              "    .colab-df-buttons div {\n",
              "      margin-bottom: 4px;\n",
              "    }\n",
              "\n",
              "    [theme=dark] .colab-df-convert {\n",
              "      background-color: #3B4455;\n",
              "      fill: #D2E3FC;\n",
              "    }\n",
              "\n",
              "    [theme=dark] .colab-df-convert:hover {\n",
              "      background-color: #434B5C;\n",
              "      box-shadow: 0px 1px 3px 1px rgba(0, 0, 0, 0.15);\n",
              "      filter: drop-shadow(0px 1px 2px rgba(0, 0, 0, 0.3));\n",
              "      fill: #FFFFFF;\n",
              "    }\n",
              "  </style>\n",
              "\n",
              "    <script>\n",
              "      const buttonEl =\n",
              "        document.querySelector('#df-ba91a489-08c3-4c70-bcb1-158a102847e3 button.colab-df-convert');\n",
              "      buttonEl.style.display =\n",
              "        google.colab.kernel.accessAllowed ? 'block' : 'none';\n",
              "\n",
              "      async function convertToInteractive(key) {\n",
              "        const element = document.querySelector('#df-ba91a489-08c3-4c70-bcb1-158a102847e3');\n",
              "        const dataTable =\n",
              "          await google.colab.kernel.invokeFunction('convertToInteractive',\n",
              "                                                    [key], {});\n",
              "        if (!dataTable) return;\n",
              "\n",
              "        const docLinkHtml = 'Like what you see? Visit the ' +\n",
              "          '<a target=\"_blank\" href=https://colab.research.google.com/notebooks/data_table.ipynb>data table notebook</a>'\n",
              "          + ' to learn more about interactive tables.';\n",
              "        element.innerHTML = '';\n",
              "        dataTable['output_type'] = 'display_data';\n",
              "        await google.colab.output.renderOutput(dataTable, element);\n",
              "        const docLink = document.createElement('div');\n",
              "        docLink.innerHTML = docLinkHtml;\n",
              "        element.appendChild(docLink);\n",
              "      }\n",
              "    </script>\n",
              "  </div>\n",
              "\n",
              "\n",
              "<div id=\"df-9a9ce56d-f2ef-4236-a89b-0117a4542c31\">\n",
              "  <button class=\"colab-df-quickchart\" onclick=\"quickchart('df-9a9ce56d-f2ef-4236-a89b-0117a4542c31')\"\n",
              "            title=\"Suggest charts.\"\n",
              "            style=\"display:none;\">\n",
              "\n",
              "<svg xmlns=\"http://www.w3.org/2000/svg\" height=\"24px\"viewBox=\"0 0 24 24\"\n",
              "     width=\"24px\">\n",
              "    <g>\n",
              "        <path d=\"M19 3H5c-1.1 0-2 .9-2 2v14c0 1.1.9 2 2 2h14c1.1 0 2-.9 2-2V5c0-1.1-.9-2-2-2zM9 17H7v-7h2v7zm4 0h-2V7h2v10zm4 0h-2v-4h2v4z\"/>\n",
              "    </g>\n",
              "</svg>\n",
              "  </button>\n",
              "\n",
              "<style>\n",
              "  .colab-df-quickchart {\n",
              "      --bg-color: #E8F0FE;\n",
              "      --fill-color: #1967D2;\n",
              "      --hover-bg-color: #E2EBFA;\n",
              "      --hover-fill-color: #174EA6;\n",
              "      --disabled-fill-color: #AAA;\n",
              "      --disabled-bg-color: #DDD;\n",
              "  }\n",
              "\n",
              "  [theme=dark] .colab-df-quickchart {\n",
              "      --bg-color: #3B4455;\n",
              "      --fill-color: #D2E3FC;\n",
              "      --hover-bg-color: #434B5C;\n",
              "      --hover-fill-color: #FFFFFF;\n",
              "      --disabled-bg-color: #3B4455;\n",
              "      --disabled-fill-color: #666;\n",
              "  }\n",
              "\n",
              "  .colab-df-quickchart {\n",
              "    background-color: var(--bg-color);\n",
              "    border: none;\n",
              "    border-radius: 50%;\n",
              "    cursor: pointer;\n",
              "    display: none;\n",
              "    fill: var(--fill-color);\n",
              "    height: 32px;\n",
              "    padding: 0;\n",
              "    width: 32px;\n",
              "  }\n",
              "\n",
              "  .colab-df-quickchart:hover {\n",
              "    background-color: var(--hover-bg-color);\n",
              "    box-shadow: 0 1px 2px rgba(60, 64, 67, 0.3), 0 1px 3px 1px rgba(60, 64, 67, 0.15);\n",
              "    fill: var(--button-hover-fill-color);\n",
              "  }\n",
              "\n",
              "  .colab-df-quickchart-complete:disabled,\n",
              "  .colab-df-quickchart-complete:disabled:hover {\n",
              "    background-color: var(--disabled-bg-color);\n",
              "    fill: var(--disabled-fill-color);\n",
              "    box-shadow: none;\n",
              "  }\n",
              "\n",
              "  .colab-df-spinner {\n",
              "    border: 2px solid var(--fill-color);\n",
              "    border-color: transparent;\n",
              "    border-bottom-color: var(--fill-color);\n",
              "    animation:\n",
              "      spin 1s steps(1) infinite;\n",
              "  }\n",
              "\n",
              "  @keyframes spin {\n",
              "    0% {\n",
              "      border-color: transparent;\n",
              "      border-bottom-color: var(--fill-color);\n",
              "      border-left-color: var(--fill-color);\n",
              "    }\n",
              "    20% {\n",
              "      border-color: transparent;\n",
              "      border-left-color: var(--fill-color);\n",
              "      border-top-color: var(--fill-color);\n",
              "    }\n",
              "    30% {\n",
              "      border-color: transparent;\n",
              "      border-left-color: var(--fill-color);\n",
              "      border-top-color: var(--fill-color);\n",
              "      border-right-color: var(--fill-color);\n",
              "    }\n",
              "    40% {\n",
              "      border-color: transparent;\n",
              "      border-right-color: var(--fill-color);\n",
              "      border-top-color: var(--fill-color);\n",
              "    }\n",
              "    60% {\n",
              "      border-color: transparent;\n",
              "      border-right-color: var(--fill-color);\n",
              "    }\n",
              "    80% {\n",
              "      border-color: transparent;\n",
              "      border-right-color: var(--fill-color);\n",
              "      border-bottom-color: var(--fill-color);\n",
              "    }\n",
              "    90% {\n",
              "      border-color: transparent;\n",
              "      border-bottom-color: var(--fill-color);\n",
              "    }\n",
              "  }\n",
              "</style>\n",
              "\n",
              "  <script>\n",
              "    async function quickchart(key) {\n",
              "      const quickchartButtonEl =\n",
              "        document.querySelector('#' + key + ' button');\n",
              "      quickchartButtonEl.disabled = true;  // To prevent multiple clicks.\n",
              "      quickchartButtonEl.classList.add('colab-df-spinner');\n",
              "      try {\n",
              "        const charts = await google.colab.kernel.invokeFunction(\n",
              "            'suggestCharts', [key], {});\n",
              "      } catch (error) {\n",
              "        console.error('Error during call to suggestCharts:', error);\n",
              "      }\n",
              "      quickchartButtonEl.classList.remove('colab-df-spinner');\n",
              "      quickchartButtonEl.classList.add('colab-df-quickchart-complete');\n",
              "    }\n",
              "    (() => {\n",
              "      let quickchartButtonEl =\n",
              "        document.querySelector('#df-9a9ce56d-f2ef-4236-a89b-0117a4542c31 button');\n",
              "      quickchartButtonEl.style.display =\n",
              "        google.colab.kernel.accessAllowed ? 'block' : 'none';\n",
              "    })();\n",
              "  </script>\n",
              "</div>\n",
              "    </div>\n",
              "  </div>\n"
            ]
          },
          "metadata": {},
          "execution_count": 73
        }
      ]
    },
    {
      "cell_type": "code",
      "source": [
        "df_ts = df.groupby('Date')[['Qty']].sum()\n",
        "df_ts\n",
        "\n"
      ],
      "metadata": {
        "colab": {
          "base_uri": "https://localhost:8080/",
          "height": 455
        },
        "id": "-ICOXTAIl_GF",
        "outputId": "bfa82ee5-958b-4d21-b87a-967d1e4acbbb"
      },
      "execution_count": 74,
      "outputs": [
        {
          "output_type": "execute_result",
          "data": {
            "text/plain": [
              "            Qty\n",
              "Date           \n",
              "2022-01-01   49\n",
              "2022-01-02   59\n",
              "2022-01-03   63\n",
              "2022-01-04   45\n",
              "2022-01-05   30\n",
              "...         ...\n",
              "2022-12-27   70\n",
              "2022-12-28   68\n",
              "2022-12-29   42\n",
              "2022-12-30   44\n",
              "2022-12-31   37\n",
              "\n",
              "[365 rows x 1 columns]"
            ],
            "text/html": [
              "\n",
              "  <div id=\"df-3575dd90-1ec5-464a-9b4c-b4f723ba7054\" class=\"colab-df-container\">\n",
              "    <div>\n",
              "<style scoped>\n",
              "    .dataframe tbody tr th:only-of-type {\n",
              "        vertical-align: middle;\n",
              "    }\n",
              "\n",
              "    .dataframe tbody tr th {\n",
              "        vertical-align: top;\n",
              "    }\n",
              "\n",
              "    .dataframe thead th {\n",
              "        text-align: right;\n",
              "    }\n",
              "</style>\n",
              "<table border=\"1\" class=\"dataframe\">\n",
              "  <thead>\n",
              "    <tr style=\"text-align: right;\">\n",
              "      <th></th>\n",
              "      <th>Qty</th>\n",
              "    </tr>\n",
              "    <tr>\n",
              "      <th>Date</th>\n",
              "      <th></th>\n",
              "    </tr>\n",
              "  </thead>\n",
              "  <tbody>\n",
              "    <tr>\n",
              "      <th>2022-01-01</th>\n",
              "      <td>49</td>\n",
              "    </tr>\n",
              "    <tr>\n",
              "      <th>2022-01-02</th>\n",
              "      <td>59</td>\n",
              "    </tr>\n",
              "    <tr>\n",
              "      <th>2022-01-03</th>\n",
              "      <td>63</td>\n",
              "    </tr>\n",
              "    <tr>\n",
              "      <th>2022-01-04</th>\n",
              "      <td>45</td>\n",
              "    </tr>\n",
              "    <tr>\n",
              "      <th>2022-01-05</th>\n",
              "      <td>30</td>\n",
              "    </tr>\n",
              "    <tr>\n",
              "      <th>...</th>\n",
              "      <td>...</td>\n",
              "    </tr>\n",
              "    <tr>\n",
              "      <th>2022-12-27</th>\n",
              "      <td>70</td>\n",
              "    </tr>\n",
              "    <tr>\n",
              "      <th>2022-12-28</th>\n",
              "      <td>68</td>\n",
              "    </tr>\n",
              "    <tr>\n",
              "      <th>2022-12-29</th>\n",
              "      <td>42</td>\n",
              "    </tr>\n",
              "    <tr>\n",
              "      <th>2022-12-30</th>\n",
              "      <td>44</td>\n",
              "    </tr>\n",
              "    <tr>\n",
              "      <th>2022-12-31</th>\n",
              "      <td>37</td>\n",
              "    </tr>\n",
              "  </tbody>\n",
              "</table>\n",
              "<p>365 rows × 1 columns</p>\n",
              "</div>\n",
              "    <div class=\"colab-df-buttons\">\n",
              "\n",
              "  <div class=\"colab-df-container\">\n",
              "    <button class=\"colab-df-convert\" onclick=\"convertToInteractive('df-3575dd90-1ec5-464a-9b4c-b4f723ba7054')\"\n",
              "            title=\"Convert this dataframe to an interactive table.\"\n",
              "            style=\"display:none;\">\n",
              "\n",
              "  <svg xmlns=\"http://www.w3.org/2000/svg\" height=\"24px\" viewBox=\"0 -960 960 960\">\n",
              "    <path d=\"M120-120v-720h720v720H120Zm60-500h600v-160H180v160Zm220 220h160v-160H400v160Zm0 220h160v-160H400v160ZM180-400h160v-160H180v160Zm440 0h160v-160H620v160ZM180-180h160v-160H180v160Zm440 0h160v-160H620v160Z\"/>\n",
              "  </svg>\n",
              "    </button>\n",
              "\n",
              "  <style>\n",
              "    .colab-df-container {\n",
              "      display:flex;\n",
              "      gap: 12px;\n",
              "    }\n",
              "\n",
              "    .colab-df-convert {\n",
              "      background-color: #E8F0FE;\n",
              "      border: none;\n",
              "      border-radius: 50%;\n",
              "      cursor: pointer;\n",
              "      display: none;\n",
              "      fill: #1967D2;\n",
              "      height: 32px;\n",
              "      padding: 0 0 0 0;\n",
              "      width: 32px;\n",
              "    }\n",
              "\n",
              "    .colab-df-convert:hover {\n",
              "      background-color: #E2EBFA;\n",
              "      box-shadow: 0px 1px 2px rgba(60, 64, 67, 0.3), 0px 1px 3px 1px rgba(60, 64, 67, 0.15);\n",
              "      fill: #174EA6;\n",
              "    }\n",
              "\n",
              "    .colab-df-buttons div {\n",
              "      margin-bottom: 4px;\n",
              "    }\n",
              "\n",
              "    [theme=dark] .colab-df-convert {\n",
              "      background-color: #3B4455;\n",
              "      fill: #D2E3FC;\n",
              "    }\n",
              "\n",
              "    [theme=dark] .colab-df-convert:hover {\n",
              "      background-color: #434B5C;\n",
              "      box-shadow: 0px 1px 3px 1px rgba(0, 0, 0, 0.15);\n",
              "      filter: drop-shadow(0px 1px 2px rgba(0, 0, 0, 0.3));\n",
              "      fill: #FFFFFF;\n",
              "    }\n",
              "  </style>\n",
              "\n",
              "    <script>\n",
              "      const buttonEl =\n",
              "        document.querySelector('#df-3575dd90-1ec5-464a-9b4c-b4f723ba7054 button.colab-df-convert');\n",
              "      buttonEl.style.display =\n",
              "        google.colab.kernel.accessAllowed ? 'block' : 'none';\n",
              "\n",
              "      async function convertToInteractive(key) {\n",
              "        const element = document.querySelector('#df-3575dd90-1ec5-464a-9b4c-b4f723ba7054');\n",
              "        const dataTable =\n",
              "          await google.colab.kernel.invokeFunction('convertToInteractive',\n",
              "                                                    [key], {});\n",
              "        if (!dataTable) return;\n",
              "\n",
              "        const docLinkHtml = 'Like what you see? Visit the ' +\n",
              "          '<a target=\"_blank\" href=https://colab.research.google.com/notebooks/data_table.ipynb>data table notebook</a>'\n",
              "          + ' to learn more about interactive tables.';\n",
              "        element.innerHTML = '';\n",
              "        dataTable['output_type'] = 'display_data';\n",
              "        await google.colab.output.renderOutput(dataTable, element);\n",
              "        const docLink = document.createElement('div');\n",
              "        docLink.innerHTML = docLinkHtml;\n",
              "        element.appendChild(docLink);\n",
              "      }\n",
              "    </script>\n",
              "  </div>\n",
              "\n",
              "\n",
              "<div id=\"df-1d1b5f9d-4384-4a84-b5ff-b3da30306683\">\n",
              "  <button class=\"colab-df-quickchart\" onclick=\"quickchart('df-1d1b5f9d-4384-4a84-b5ff-b3da30306683')\"\n",
              "            title=\"Suggest charts.\"\n",
              "            style=\"display:none;\">\n",
              "\n",
              "<svg xmlns=\"http://www.w3.org/2000/svg\" height=\"24px\"viewBox=\"0 0 24 24\"\n",
              "     width=\"24px\">\n",
              "    <g>\n",
              "        <path d=\"M19 3H5c-1.1 0-2 .9-2 2v14c0 1.1.9 2 2 2h14c1.1 0 2-.9 2-2V5c0-1.1-.9-2-2-2zM9 17H7v-7h2v7zm4 0h-2V7h2v10zm4 0h-2v-4h2v4z\"/>\n",
              "    </g>\n",
              "</svg>\n",
              "  </button>\n",
              "\n",
              "<style>\n",
              "  .colab-df-quickchart {\n",
              "      --bg-color: #E8F0FE;\n",
              "      --fill-color: #1967D2;\n",
              "      --hover-bg-color: #E2EBFA;\n",
              "      --hover-fill-color: #174EA6;\n",
              "      --disabled-fill-color: #AAA;\n",
              "      --disabled-bg-color: #DDD;\n",
              "  }\n",
              "\n",
              "  [theme=dark] .colab-df-quickchart {\n",
              "      --bg-color: #3B4455;\n",
              "      --fill-color: #D2E3FC;\n",
              "      --hover-bg-color: #434B5C;\n",
              "      --hover-fill-color: #FFFFFF;\n",
              "      --disabled-bg-color: #3B4455;\n",
              "      --disabled-fill-color: #666;\n",
              "  }\n",
              "\n",
              "  .colab-df-quickchart {\n",
              "    background-color: var(--bg-color);\n",
              "    border: none;\n",
              "    border-radius: 50%;\n",
              "    cursor: pointer;\n",
              "    display: none;\n",
              "    fill: var(--fill-color);\n",
              "    height: 32px;\n",
              "    padding: 0;\n",
              "    width: 32px;\n",
              "  }\n",
              "\n",
              "  .colab-df-quickchart:hover {\n",
              "    background-color: var(--hover-bg-color);\n",
              "    box-shadow: 0 1px 2px rgba(60, 64, 67, 0.3), 0 1px 3px 1px rgba(60, 64, 67, 0.15);\n",
              "    fill: var(--button-hover-fill-color);\n",
              "  }\n",
              "\n",
              "  .colab-df-quickchart-complete:disabled,\n",
              "  .colab-df-quickchart-complete:disabled:hover {\n",
              "    background-color: var(--disabled-bg-color);\n",
              "    fill: var(--disabled-fill-color);\n",
              "    box-shadow: none;\n",
              "  }\n",
              "\n",
              "  .colab-df-spinner {\n",
              "    border: 2px solid var(--fill-color);\n",
              "    border-color: transparent;\n",
              "    border-bottom-color: var(--fill-color);\n",
              "    animation:\n",
              "      spin 1s steps(1) infinite;\n",
              "  }\n",
              "\n",
              "  @keyframes spin {\n",
              "    0% {\n",
              "      border-color: transparent;\n",
              "      border-bottom-color: var(--fill-color);\n",
              "      border-left-color: var(--fill-color);\n",
              "    }\n",
              "    20% {\n",
              "      border-color: transparent;\n",
              "      border-left-color: var(--fill-color);\n",
              "      border-top-color: var(--fill-color);\n",
              "    }\n",
              "    30% {\n",
              "      border-color: transparent;\n",
              "      border-left-color: var(--fill-color);\n",
              "      border-top-color: var(--fill-color);\n",
              "      border-right-color: var(--fill-color);\n",
              "    }\n",
              "    40% {\n",
              "      border-color: transparent;\n",
              "      border-right-color: var(--fill-color);\n",
              "      border-top-color: var(--fill-color);\n",
              "    }\n",
              "    60% {\n",
              "      border-color: transparent;\n",
              "      border-right-color: var(--fill-color);\n",
              "    }\n",
              "    80% {\n",
              "      border-color: transparent;\n",
              "      border-right-color: var(--fill-color);\n",
              "      border-bottom-color: var(--fill-color);\n",
              "    }\n",
              "    90% {\n",
              "      border-color: transparent;\n",
              "      border-bottom-color: var(--fill-color);\n",
              "    }\n",
              "  }\n",
              "</style>\n",
              "\n",
              "  <script>\n",
              "    async function quickchart(key) {\n",
              "      const quickchartButtonEl =\n",
              "        document.querySelector('#' + key + ' button');\n",
              "      quickchartButtonEl.disabled = true;  // To prevent multiple clicks.\n",
              "      quickchartButtonEl.classList.add('colab-df-spinner');\n",
              "      try {\n",
              "        const charts = await google.colab.kernel.invokeFunction(\n",
              "            'suggestCharts', [key], {});\n",
              "      } catch (error) {\n",
              "        console.error('Error during call to suggestCharts:', error);\n",
              "      }\n",
              "      quickchartButtonEl.classList.remove('colab-df-spinner');\n",
              "      quickchartButtonEl.classList.add('colab-df-quickchart-complete');\n",
              "    }\n",
              "    (() => {\n",
              "      let quickchartButtonEl =\n",
              "        document.querySelector('#df-1d1b5f9d-4384-4a84-b5ff-b3da30306683 button');\n",
              "      quickchartButtonEl.style.display =\n",
              "        google.colab.kernel.accessAllowed ? 'block' : 'none';\n",
              "    })();\n",
              "  </script>\n",
              "</div>\n",
              "    </div>\n",
              "  </div>\n"
            ]
          },
          "metadata": {},
          "execution_count": 74
        }
      ]
    },
    {
      "cell_type": "code",
      "source": [
        "df_ts.plot()\n",
        "plt.ylabel(\"Qty\")\n",
        "plt.title(\"Time Series Plot Quantity\")\n"
      ],
      "metadata": {
        "colab": {
          "base_uri": "https://localhost:8080/",
          "height": 506
        },
        "id": "6wSMMHVbm0pN",
        "outputId": "9bbbcc56-29fb-46b8-ead7-bff7ff8a2aef"
      },
      "execution_count": 75,
      "outputs": [
        {
          "output_type": "execute_result",
          "data": {
            "text/plain": [
              "Text(0.5, 1.0, 'Time Series Plot Quantity')"
            ]
          },
          "metadata": {},
          "execution_count": 75
        },
        {
          "output_type": "display_data",
          "data": {
            "text/plain": [
              "<Figure size 640x480 with 1 Axes>"
            ],
            "image/png": "[encoded data removed]"
          },
          "metadata": {}
        }
      ]
    },
    {
      "cell_type": "markdown",
      "source": [
        "### ***Checking Data Stationarity***\n",
        "\n",
        "The hypothesis for testing the stationarity of time series data using the Augmented Dickey-Fuller (ADF) test is as follows:\n",
        "\n",
        "H0: data is non-stationary\n",
        "\n",
        "H1: data is stationary\n",
        "\n",
        "Hypothesis Testing Statistics:\n",
        "Alpha = 5%\n",
        "\n",
        "Reject H0 if P-value is less than alpha."
      ],
      "metadata": {
        "id": "cLbBq2jYpp4k"
      }
    },
    {
      "cell_type": "code",
      "source": [
        "adf_test = adfuller(df_ts['Qty'])\n",
        "print(f'p-value: {adf_test[1]}')"
      ],
      "metadata": {
        "colab": {
          "base_uri": "https://localhost:8080/"
        },
        "id": "uUhnRjBhpJps",
        "outputId": "46bd42d0-806e-42bf-c3af-072fbcaeb26d"
      },
      "execution_count": 76,
      "outputs": [
        {
          "output_type": "stream",
          "name": "stdout",
          "text": [
            "p-value: 0.0\n"
          ]
        }
      ]
    },
    {
      "cell_type": "markdown",
      "source": [
        "P-Value < alpha, so we reject H0. Therefore, it can be concluded that the data is stationary, and ARIMA modeling can proceed.\n",
        "\n",
        "\n",
        "\n",
        "\n"
      ],
      "metadata": {
        "id": "faE4H1Grq31v"
      }
    },
    {
      "cell_type": "code",
      "source": [
        "# split into training and testing data by 80/20\n",
        "train = df_ts['Qty'][:int(0.8*(len(df_ts['Qty'])))]\n",
        "test = df_ts['Qty'][int(0.8*(len(df_ts['Qty']))):]\n",
        "\n"
      ],
      "metadata": {
        "id": "0_Z0N2vr9ePP"
      },
      "execution_count": 77,
      "outputs": []
    },
    {
      "cell_type": "markdown",
      "source": [
        "### Auto ARIMA"
      ],
      "metadata": {
        "id": "ZndyXXdBA6x2"
      }
    },
    {
      "cell_type": "code",
      "source": [
        "# grid search for p, d, and q\n",
        "auto_arima_model = pm.auto_arima(\n",
        "    train,\n",
        "    seasonal=False,\n",
        "    stepwise=False,\n",
        "    suppress_warnings=True,\n",
        "    trace = True\n",
        ")\n",
        "auto_arima_model.summary()\n",
        "\n",
        "#stepwise=False can provide the flexibility needed, allowing for a more flexible model selection process that can result in higher accuracy models in some cases."
      ],
      "metadata": {
        "colab": {
          "base_uri": "https://localhost:8080/",
          "height": 859
        },
        "id": "i8e2wBdD_y6P",
        "outputId": "b4593c5b-c036-441e-cfe4-2a4c0f7c401a"
      },
      "execution_count": 78,
      "outputs": [
        {
          "output_type": "stream",
          "name": "stdout",
          "text": [
            " ARIMA(0,0,0)(0,0,0)[0]             : AIC=3158.558, Time=0.03 sec\n",
            " ARIMA(0,0,1)(0,0,0)[0]             : AIC=2971.825, Time=0.15 sec\n",
            " ARIMA(0,0,2)(0,0,0)[0]             : AIC=2858.751, Time=0.26 sec\n",
            " ARIMA(0,0,3)(0,0,0)[0]             : AIC=2818.103, Time=0.30 sec\n",
            " ARIMA(0,0,4)(0,0,0)[0]             : AIC=2758.656, Time=0.42 sec\n",
            " ARIMA(0,0,5)(0,0,0)[0]             : AIC=2742.865, Time=0.51 sec\n",
            " ARIMA(1,0,0)(0,0,0)[0]             : AIC=2688.721, Time=0.04 sec\n",
            " ARIMA(1,0,1)(0,0,0)[0]             : AIC=2504.937, Time=0.21 sec\n",
            " ARIMA(1,0,2)(0,0,0)[0]             : AIC=2506.794, Time=0.32 sec\n",
            " ARIMA(1,0,3)(0,0,0)[0]             : AIC=2508.733, Time=0.69 sec\n",
            " ARIMA(1,0,4)(0,0,0)[0]             : AIC=2510.161, Time=0.59 sec\n",
            " ARIMA(2,0,0)(0,0,0)[0]             : AIC=2616.108, Time=0.07 sec\n",
            " ARIMA(2,0,1)(0,0,0)[0]             : AIC=2506.798, Time=0.31 sec\n",
            " ARIMA(2,0,2)(0,0,0)[0]             : AIC=inf, Time=0.37 sec\n",
            " ARIMA(2,0,3)(0,0,0)[0]             : AIC=inf, Time=0.61 sec\n",
            " ARIMA(3,0,0)(0,0,0)[0]             : AIC=2591.264, Time=0.11 sec\n",
            " ARIMA(3,0,1)(0,0,0)[0]             : AIC=2508.739, Time=0.45 sec\n",
            " ARIMA(3,0,2)(0,0,0)[0]             : AIC=inf, Time=0.52 sec\n",
            " ARIMA(4,0,0)(0,0,0)[0]             : AIC=inf, Time=0.10 sec\n",
            " ARIMA(4,0,1)(0,0,0)[0]             : AIC=2509.963, Time=0.50 sec\n",
            " ARIMA(5,0,0)(0,0,0)[0]             : AIC=inf, Time=0.17 sec\n",
            "\n",
            "Best model:  ARIMA(1,0,1)(0,0,0)[0]          \n",
            "Total fit time: 6.789 seconds\n"
          ]
        },
        {
          "output_type": "execute_result",
          "data": {
            "text/plain": [
              "<class 'statsmodels.iolib.summary.Summary'>\n",
              "\"\"\"\n",
              "                               SARIMAX Results                                \n",
              "==============================================================================\n",
              "Dep. Variable:                      y   No. Observations:                  292\n",
              "Model:               SARIMAX(1, 0, 1)   Log Likelihood               -1249.469\n",
              "Date:                Sun, 29 Oct 2023   AIC                           2504.937\n",
              "Time:                        10:55:34   BIC                           2515.968\n",
              "Sample:                    01-01-2022   HQIC                          2509.356\n",
              "                         - 10-19-2022                                         \n",
              "Covariance Type:                  opg                                         \n",
              "==============================================================================\n",
              "                 coef    std err          z      P>|z|      [0.025      0.975]\n",
              "------------------------------------------------------------------------------\n",
              "ar.L1          1.0000   3.08e-05   3.25e+04      0.000       1.000       1.000\n",
              "ma.L1         -0.9898      0.015    -66.556      0.000      -1.019      -0.961\n",
              "sigma2       298.6887     22.254     13.422      0.000     255.072     342.306\n",
              "===================================================================================\n",
              "Ljung-Box (L1) (Q):                   0.16   Jarque-Bera (JB):                18.30\n",
              "Prob(Q):                              0.69   Prob(JB):                         0.00\n",
              "Heteroskedasticity (H):               0.83   Skew:                             0.53\n",
              "Prob(H) (two-sided):                  0.37   Kurtosis:                         3.63\n",
              "===================================================================================\n",
              "\n",
              "Warnings:\n",
              "[1] Covariance matrix calculated using the outer product of gradients (complex-step).\n",
              "\"\"\""
            ],
            "text/html": [
              "<table class=\"simpletable\">\n",
              "<caption>SARIMAX Results</caption>\n",
              "<tr>\n",
              "  <th>Dep. Variable:</th>           <td>y</td>        <th>  No. Observations:  </th>    <td>292</td>   \n",
              "</tr>\n",
              "<tr>\n",
              "  <th>Model:</th>           <td>SARIMAX(1, 0, 1)</td> <th>  Log Likelihood     </th> <td>-1249.469</td>\n",
              "</tr>\n",
              "<tr>\n",
              "  <th>Date:</th>            <td>Sun, 29 Oct 2023</td> <th>  AIC                </th> <td>2504.937</td> \n",
              "</tr>\n",
              "<tr>\n",
              "  <th>Time:</th>                <td>10:55:34</td>     <th>  BIC                </th> <td>2515.968</td> \n",
              "</tr>\n",
              "<tr>\n",
              "  <th>Sample:</th>             <td>01-01-2022</td>    <th>  HQIC               </th> <td>2509.356</td> \n",
              "</tr>\n",
              "<tr>\n",
              "  <th></th>                   <td>- 10-19-2022</td>   <th>                     </th>     <td> </td>    \n",
              "</tr>\n",
              "<tr>\n",
              "  <th>Covariance Type:</th>        <td>opg</td>       <th>                     </th>     <td> </td>    \n",
              "</tr>\n",
              "</table>\n",
              "<table class=\"simpletable\">\n",
              "<tr>\n",
              "     <td></td>       <th>coef</th>     <th>std err</th>      <th>z</th>      <th>P>|z|</th>  <th>[0.025</th>    <th>0.975]</th>  \n",
              "</tr>\n",
              "<tr>\n",
              "  <th>ar.L1</th>  <td>    1.0000</td> <td> 3.08e-05</td> <td> 3.25e+04</td> <td> 0.000</td> <td>    1.000</td> <td>    1.000</td>\n",
              "</tr>\n",
              "<tr>\n",
              "  <th>ma.L1</th>  <td>   -0.9898</td> <td>    0.015</td> <td>  -66.556</td> <td> 0.000</td> <td>   -1.019</td> <td>   -0.961</td>\n",
              "</tr>\n",
              "<tr>\n",
              "  <th>sigma2</th> <td>  298.6887</td> <td>   22.254</td> <td>   13.422</td> <td> 0.000</td> <td>  255.072</td> <td>  342.306</td>\n",
              "</tr>\n",
              "</table>\n",
              "<table class=\"simpletable\">\n",
              "<tr>\n",
              "  <th>Ljung-Box (L1) (Q):</th>     <td>0.16</td> <th>  Jarque-Bera (JB):  </th> <td>18.30</td>\n",
              "</tr>\n",
              "<tr>\n",
              "  <th>Prob(Q):</th>                <td>0.69</td> <th>  Prob(JB):          </th> <td>0.00</td> \n",
              "</tr>\n",
              "<tr>\n",
              "  <th>Heteroskedasticity (H):</th> <td>0.83</td> <th>  Skew:              </th> <td>0.53</td> \n",
              "</tr>\n",
              "<tr>\n",
              "  <th>Prob(H) (two-sided):</th>    <td>0.37</td> <th>  Kurtosis:          </th> <td>3.63</td> \n",
              "</tr>\n",
              "</table><br/><br/>Warnings:<br/>[1] Covariance matrix calculated using the outer product of gradients (complex-step)."
            ],
            "text/latex": "\\begin{center}\n\\begin{tabular}{lclc}\n\\toprule\n\\textbf{Dep. Variable:}          &        y         & \\textbf{  No. Observations:  } &    292      \\\\\n\\textbf{Model:}                  & SARIMAX(1, 0, 1) & \\textbf{  Log Likelihood     } & -1249.469   \\\\\n\\textbf{Date:}                   & Sun, 29 Oct 2023 & \\textbf{  AIC                } &  2504.937   \\\\\n\\textbf{Time:}                   &     10:55:34     & \\textbf{  BIC                } &  2515.968   \\\\\n\\textbf{Sample:}                 &    01-01-2022    & \\textbf{  HQIC               } &  2509.356   \\\\\n\\textbf{}                        &   - 10-19-2022   & \\textbf{                     } &             \\\\\n\\textbf{Covariance Type:}        &       opg        & \\textbf{                     } &             \\\\\n\\bottomrule\n\\end{tabular}\n\\begin{tabular}{lcccccc}\n                & \\textbf{coef} & \\textbf{std err} & \\textbf{z} & \\textbf{P$> |$z$|$} & \\textbf{[0.025} & \\textbf{0.975]}  \\\\\n\\midrule\n\\textbf{ar.L1}  &       1.0000  &     3.08e-05     &  3.25e+04  &         0.000        &        1.000    &        1.000     \\\\\n\\textbf{ma.L1}  &      -0.9898  &        0.015     &   -66.556  &         0.000        &       -1.019    &       -0.961     \\\\\n\\textbf{sigma2} &     298.6887  &       22.254     &    13.422  &         0.000        &      255.072    &      342.306     \\\\\n\\bottomrule\n\\end{tabular}\n\\begin{tabular}{lclc}\n\\textbf{Ljung-Box (L1) (Q):}     & 0.16 & \\textbf{  Jarque-Bera (JB):  } & 18.30  \\\\\n\\textbf{Prob(Q):}                & 0.69 & \\textbf{  Prob(JB):          } &  0.00  \\\\\n\\textbf{Heteroskedasticity (H):} & 0.83 & \\textbf{  Skew:              } &  0.53  \\\\\n\\textbf{Prob(H) (two-sided):}    & 0.37 & \\textbf{  Kurtosis:          } &  3.63  \\\\\n\\bottomrule\n\\end{tabular}\n%\\caption{SARIMAX Results}\n\\end{center}\n\nWarnings: \\newline\n [1] Covariance matrix calculated using the outer product of gradients (complex-step)."
          },
          "metadata": {},
          "execution_count": 78
        }
      ]
    },
    {
      "cell_type": "markdown",
      "source": [
        "From the provided information, it can be understood that the best-selected model is ARIMA(1,0,1). This refers to the ARIMA order used in the model, specifically having an AR(1) component, differencing component with d=0, and an MA(1) component. There are no seasonal components ([0]).\n",
        "\n",
        "The white noise assumption entails that the model residuals (remainder after model application) should exhibit white noise properties, such as the absence of significant patterns or correlations. The Ljung-Box test result with a value of 0.16 and a p-value (Prob(Q)) of approximately 0.69 indicates no strong evidence of residual correlation at lag 1, supporting the white noise assumption. This assumption is confirmed.\n",
        "\n",
        "Heteroskedasticity (H) is 0.83.\n",
        "The assumption that the variance of residuals (variance of the remainder) is constant. A value of H approaching 1 (in this case, 0.83) suggests that the heteroskedasticity assumption (varying variance) is not met. Ideally, we would want H to approach 0, indicating constant residual variance.\n",
        "\n",
        "Usually, in ARIMA models, the assumption is that the residual variance (remainder after modeling) is constant, indicating variance stationarity in the data. If your data doesn't meet this assumption and shows heteroskedasticity (varying variance over time), ARIMA may not be suitable for the data. In cases of significant heteroskedasticity, you might consider using a more appropriate model like GARCH (Generalized Autoregressive Conditional Heteroskedasticity) or another model designed to handle variance variability. GARCH models are specifically designed to forecast volatility (variance) in time series data and can be a better choice when data is not variance-stationary."
      ],
      "metadata": {
        "id": "TZsfYrxaHY7U"
      }
    },
    {
      "cell_type": "code",
      "source": [
        "p, d, q = auto_arima_model.order\n",
        "model = SARIMAX(train.values, order=(p,d,q))\n",
        "auto_arima_model_fit = model.fit(disp=False)"
      ],
      "metadata": {
        "id": "PacNHL7RAu0O"
      },
      "execution_count": 79,
      "outputs": []
    },
    {
      "cell_type": "code",
      "source": [
        "# count rsme\n",
        "predictions = auto_arima_model_fit.predict(start=len(train), end=len(train)+len(test)-1)\n",
        "rmse = mean_squared_error(test, predictions, squared=False)\n",
        "rmse"
      ],
      "metadata": {
        "colab": {
          "base_uri": "https://localhost:8080/"
        },
        "id": "YnfJKaSvBaHm",
        "outputId": "a431c785-8101-4dc9-c769-671ef931e173"
      },
      "execution_count": 80,
      "outputs": [
        {
          "output_type": "execute_result",
          "data": {
            "text/plain": [
              "14.153760587024204"
            ]
          },
          "metadata": {},
          "execution_count": 80
        }
      ]
    },
    {
      "cell_type": "markdown",
      "source": [
        "### Hyper Parameter Tuning"
      ],
      "metadata": {
        "id": "wFMZYsXOAxlG"
      }
    },
    {
      "cell_type": "code",
      "source": [
        "from itertools import product\n",
        "# Create lists for p, d, and q\n",
        "p = range(0, 4)  # 0-3\n",
        "d = range(0, 4)  # 0-3\n",
        "q = range(0, 4)  # 0-3\n",
        "# Use the product function from itertools to create combinations of p, d, and q\n",
        "pdq = list(product(p, d, q))\n",
        "print(pdq)\n"
      ],
      "metadata": {
        "colab": {
          "base_uri": "https://localhost:8080/"
        },
        "id": "FNyVjq8ebagf",
        "outputId": "0809ddd7-7348-40b5-f3cb-77233b093f7a"
      },
      "execution_count": 81,
      "outputs": [
        {
          "output_type": "stream",
          "name": "stdout",
          "text": [
            "[(0, 0, 0), (0, 0, 1), (0, 0, 2), (0, 0, 3), (0, 1, 0), (0, 1, 1), (0, 1, 2), (0, 1, 3), (0, 2, 0), (0, 2, 1), (0, 2, 2), (0, 2, 3), (0, 3, 0), (0, 3, 1), (0, 3, 2), (0, 3, 3), (1, 0, 0), (1, 0, 1), (1, 0, 2), (1, 0, 3), (1, 1, 0), (1, 1, 1), (1, 1, 2), (1, 1, 3), (1, 2, 0), (1, 2, 1), (1, 2, 2), (1, 2, 3), (1, 3, 0), (1, 3, 1), (1, 3, 2), (1, 3, 3), (2, 0, 0), (2, 0, 1), (2, 0, 2), (2, 0, 3), (2, 1, 0), (2, 1, 1), (2, 1, 2), (2, 1, 3), (2, 2, 0), (2, 2, 1), (2, 2, 2), (2, 2, 3), (2, 3, 0), (2, 3, 1), (2, 3, 2), (2, 3, 3), (3, 0, 0), (3, 0, 1), (3, 0, 2), (3, 0, 3), (3, 1, 0), (3, 1, 1), (3, 1, 2), (3, 1, 3), (3, 2, 0), (3, 2, 1), (3, 2, 2), (3, 2, 3), (3, 3, 0), (3, 3, 1), (3, 3, 2), (3, 3, 3)]\n"
          ]
        }
      ]
    },
    {
      "cell_type": "code",
      "source": [
        "# Create a list to store AIC scores\n",
        "aic_scores = []\n",
        "# Perform manual grid search to find optimal p, d, q\n",
        "for param in pdq:\n",
        "    # Fit the ARIMA model\n",
        "    model = ARIMA(train, order=param)\n",
        "    model_fit = model.fit()\n",
        "    # Add AIC score to the list\n",
        "    aic_scores.append({'param': param, 'aic': model_fit.aic})\n",
        "\n",
        "# Choose the smallest AIC score\n",
        "best_aic = min(aic_scores, key=lambda x: x['aic'])\n",
        "print(best_aic)\n"
      ],
      "metadata": {
        "colab": {
          "base_uri": "https://localhost:8080/"
        },
        "id": "KVufY0SQbdOd",
        "outputId": "69e304b7-5b9f-4bad-d564-3e4797dd2ef7"
      },
      "execution_count": 82,
      "outputs": [
        {
          "output_type": "stream",
          "name": "stdout",
          "text": [
            "{'param': (2, 1, 3), 'aic': 2489.2071952804217}\n"
          ]
        }
      ]
    },
    {
      "cell_type": "code",
      "source": [
        "#Hyperparameter tuning\n",
        "model_hyper = ARIMA(train, order=best_aic['param'])\n",
        "model_fit_hyper = model_hyper.fit()\n",
        "\n"
      ],
      "metadata": {
        "id": "fQfrNozCcC-2"
      },
      "execution_count": 83,
      "outputs": []
    },
    {
      "cell_type": "code",
      "source": [
        "# count rsme\n",
        "predictions = model_fit_hyper.predict(start=len(train), end=len(train)+len(test)-1)\n",
        "rmse = mean_squared_error(test, predictions, squared=False)\n",
        "rmse"
      ],
      "metadata": {
        "colab": {
          "base_uri": "https://localhost:8080/"
        },
        "id": "6MnKUUubjSes",
        "outputId": "7a2bcb54-4fca-4945-e746-0c742df82ac2"
      },
      "execution_count": 84,
      "outputs": [
        {
          "output_type": "execute_result",
          "data": {
            "text/plain": [
              "14.366700283757966"
            ]
          },
          "metadata": {},
          "execution_count": 84
        }
      ]
    },
    {
      "cell_type": "code",
      "source": [
        "# Data to be used for forecasting\n",
        "data = df_ts['Qty']\n",
        "\n",
        "# ARIMA Model (1,0,1)\n",
        "model_arima_101 = ARIMA(data, order=(1, 0, 1))\n",
        "model_fit_arima_101 = model_arima_101.fit()\n",
        "\n",
        "# ARIMA Model (2,1,3)\n",
        "model_arima_213 = ARIMA(data, order=(2, 1, 3))\n",
        "model_fit_arima_213 = model_arima_213.fit()\n",
        "\n",
        "# Perform a 30-day ahead forecast\n",
        "forecast_steps = 30\n",
        "\n",
        "# Forecast with ARIMA (1,0,1) model\n",
        "forecast_arima_101 = model_fit_arima_101.forecast(steps=forecast_steps)\n",
        "\n",
        "# Forecast with ARIMA (2,1,3) model\n",
        "forecast_arima_213 = model_fit_arima_213.forecast(steps=forecast_steps)\n",
        "\n",
        "# Generate date index for the forecast\n",
        "last_date = data.index[-1]\n",
        "forecast_index = pd.date_range(start=last_date, periods=forecast_steps + 1, closed='right')[1:]\n",
        "\n",
        "# Create a DataFrame for the forecast results\n",
        "forecast_df = pd.DataFrame({'ARIMA(1,0,1)': forecast_arima_101, 'ARIMA(2,1,3)': forecast_arima_213}, index=forecast_index)\n",
        "\n",
        "# Create a plot of the forecast results\n",
        "plt.figure(figsize=(12, 6))\n",
        "plt.plot(data, label='Original Data', color='blue')\n",
        "plt.plot(forecast_df['ARIMA(1,0,1)'], label='ARIMA(1,0,1) Forecast', color='green')\n",
        "plt.plot(forecast_df['ARIMA(2,1,3)'], label='ARIMA(2,1,3) Forecast', color='red')\n",
        "plt.xlabel('Date')\n",
        "plt.ylabel('Qty')\n",
        "plt.title('30-Day Forecast with ARIMA Models')\n",
        "plt.legend()\n",
        "plt.grid(True)\n",
        "plt.show()\n"
      ],
      "metadata": {
        "colab": {
          "base_uri": "https://localhost:8080/",
          "height": 528
        },
        "id": "mmEtcH5wooqS",
        "outputId": "23bf3d84-dfb0-43d3-de47-55bec7cafaf1"
      },
      "execution_count": 85,
      "outputs": [
        {
          "output_type": "display_data",
          "data": {
            "text/plain": [
              "<Figure size 1200x600 with 1 Axes>"
            ],
            "image/png": "[encoded data removed]"
          },
          "metadata": {}
        }
      ]
    },
    {
      "cell_type": "code",
      "source": [
        "forecast_arima_101.mean()"
      ],
      "metadata": {
        "colab": {
          "base_uri": "https://localhost:8080/"
        },
        "id": "QHxDQIHUFgZy",
        "outputId": "75a2ad28-41db-459b-a6da-c8f0faaf7b61"
      },
      "execution_count": 88,
      "outputs": [
        {
          "output_type": "execute_result",
          "data": {
            "text/plain": [
              "50.14050880592099"
            ]
          },
          "metadata": {},
          "execution_count": 88
        }
      ]
    },
    {
      "cell_type": "code",
      "source": [
        "# Select the relevant columns from your DataFrame\n",
        "product_df = df[['Qty', 'Date', 'Product Name']]\n",
        "\n",
        "# Group the data by 'Product Name'\n",
        "df_product = product_df.groupby(\"Product Name\")\n",
        "\n",
        "# Create a DataFrame to store the forecasts\n",
        "forecast_product_df = pd.DataFrame({'Date': pd.date_range(start='2023-01-01', periods=90)})\n",
        "\n",
        "# Define the ARIMA order (1, 0, 1)\n",
        "p, d, q = 1, 0, 1\n",
        "\n",
        "# Iterate through each product group\n",
        "for product_name, group_data in df_product:\n",
        "    target_var = group_data['Qty']\n",
        "\n",
        "    # Create and fit the ARIMA model\n",
        "    model = ARIMA(target_var.values, order=(p, d, q))\n",
        "    model_fit = model.fit()\n",
        "\n",
        "    # Generate a 90-day forecast\n",
        "    forecast = model_fit.forecast(steps=90)\n",
        "\n",
        "    # Store the forecast in the DataFrame\n",
        "    forecast_product_df[product_name] = forecast\n",
        "\n",
        "# Set the 'Date' column as the index\n",
        "forecast_product_df.set_index('Date', inplace=True)\n",
        "\n",
        "# Display the first few rows of the forecasted DataFrame\n",
        "print(forecast_product_df.head())\n"
      ],
      "metadata": {
        "colab": {
          "base_uri": "https://localhost:8080/"
        },
        "id": "WK8RJKFRKVtx",
        "outputId": "27aa9dee-a1e3-48cb-ad4a-1dd79fc1c2cc"
      },
      "execution_count": 86,
      "outputs": [
        {
          "output_type": "stream",
          "name": "stdout",
          "text": [
            "              Cashew  Cheese Stick  Choco Bar  Coffee Candy  Crackers  \\\n",
            "Date                                                                    \n",
            "2023-01-01  2.650915      2.874813   6.129868      4.008798  3.527210   \n",
            "2023-01-02  2.359849      2.904585   6.036642      4.011994  3.507776   \n",
            "2023-01-03  2.510825      2.925083   6.077858      4.014031  3.518046   \n",
            "2023-01-04  2.432513      2.939197   6.059636      4.015329  3.512619   \n",
            "2023-01-05  2.473134      2.948915   6.067692      4.016156  3.515487   \n",
            "\n",
            "            Ginger Candy        Oat  Potato Chip  Thai Tea   Yoghurt  \n",
            "Date                                                                  \n",
            "2023-01-01       4.872697  2.034549     2.829799  3.493101  3.988002  \n",
            "2023-01-02       4.998183  1.980443     2.811482  3.493583  4.027453  \n",
            "2023-01-03       4.931332  1.991713     2.804698  3.494045  4.021957  \n",
            "2023-01-04       4.966946  1.989366     2.802186  3.494487  4.022723  \n",
            "2023-01-05       4.947973  1.989855     2.801256  3.494911  4.022616  \n"
          ]
        }
      ]
    },
    {
      "cell_type": "code",
      "source": [
        "# plot forecast for products\n",
        "plt.figure(figsize=(12,6))\n",
        "for i in forecast_product_df.columns:\n",
        "    plt.plot(forecast_product_df[i], label=i)\n",
        "plt.legend(loc=6, bbox_to_anchor=(1,.82))\n",
        "plt.title('Forecasting per Product')\n",
        "plt.xlabel('Date')\n",
        "plt.ylabel('Total Qty')\n",
        "plt.show()"
      ],
      "metadata": {
        "colab": {
          "base_uri": "https://localhost:8080/",
          "height": 466
        },
        "id": "dsBsprxJEp17",
        "outputId": "d55d3729-960b-491d-f398-a67935995349"
      },
      "execution_count": 90,
      "outputs": [
        {
          "output_type": "display_data",
          "data": {
            "text/plain": [
              "<Figure size 1200x600 with 1 Axes>"
            ],
            "image/png": "[encoded data removed]"
          },
          "metadata": {}
        }
      ]
    }
  ]
}